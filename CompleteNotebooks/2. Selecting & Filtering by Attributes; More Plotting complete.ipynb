{
 "cells": [
  {
   "cell_type": "markdown",
   "metadata": {},
   "source": [
    "# Selecting & Filtering by Attributes; More Plotting\n",
    "\n",
    "This time, we'll work a little more on manipulating and exploring the attributes. This is akin to working with the attribute table in desktop GIS software.  \n",
    "\n",
    "Start by importing pandas, geopandas, matplotlib.pyplot, and os:  \n",
    "    \n",
    "    >>> import pandas as pd\n",
    "    >>> import geopandas as gpd\n",
    "    >>> import matplotlib.pyplot as plt\n",
    "    >>> import os"
   ]
  },
  {
   "cell_type": "code",
   "execution_count": 1,
   "metadata": {},
   "outputs": [],
   "source": [
    "import pandas as pd\n",
    "import geopandas as gpd\n",
    "import matplotlib.pyplot as plt\n",
    "import os"
   ]
  },
  {
   "cell_type": "markdown",
   "metadata": {},
   "source": [
    "##### Important! Reset your working directory to your home folder, and only run this once!  \n",
    "    >>> os.chdir('../')\n",
    "    >>> os.getcwd()"
   ]
  },
  {
   "cell_type": "code",
   "execution_count": 2,
   "metadata": {},
   "outputs": [
    {
     "data": {
      "text/plain": [
       "'/home/jupyter-phwh9568'"
      ]
     },
     "execution_count": 2,
     "metadata": {},
     "output_type": "execute_result"
    }
   ],
   "source": [
    "os.chdir('../')\n",
    "os.getcwd()"
   ]
  },
  {
   "cell_type": "markdown",
   "metadata": {},
   "source": [
    "#### Import the OSMP_Trails shapefile as trails:\n",
    "    >>> trails = gpd.read_file('Data/OSMP_Trails.shp')"
   ]
  },
  {
   "cell_type": "code",
   "execution_count": 3,
   "metadata": {},
   "outputs": [],
   "source": [
    "trails = gpd.read_file('Data/OSMP_Trails.shp')"
   ]
  },
  {
   "cell_type": "markdown",
   "metadata": {},
   "source": [
    "#### Use .head() to view only the first few rows of the dataframe:\n",
    "    >>> trails.head()"
   ]
  },
  {
   "cell_type": "code",
   "execution_count": 4,
   "metadata": {},
   "outputs": [
    {
     "data": {
      "text/html": [
       "<div>\n",
       "<style scoped>\n",
       "    .dataframe tbody tr th:only-of-type {\n",
       "        vertical-align: middle;\n",
       "    }\n",
       "\n",
       "    .dataframe tbody tr th {\n",
       "        vertical-align: top;\n",
       "    }\n",
       "\n",
       "    .dataframe thead th {\n",
       "        text-align: right;\n",
       "    }\n",
       "</style>\n",
       "<table border=\"1\" class=\"dataframe\">\n",
       "  <thead>\n",
       "    <tr style=\"text-align: right;\">\n",
       "      <th></th>\n",
       "      <th>OBJECTID</th>\n",
       "      <th>OWNER</th>\n",
       "      <th>BICYCLES</th>\n",
       "      <th>DISPLAY</th>\n",
       "      <th>TRAILTYPE</th>\n",
       "      <th>DATEFROM</th>\n",
       "      <th>DATETO</th>\n",
       "      <th>SEGMENTID</th>\n",
       "      <th>HORSES</th>\n",
       "      <th>RID</th>\n",
       "      <th>TRLID</th>\n",
       "      <th>MILEAGE</th>\n",
       "      <th>MEASUREDFE</th>\n",
       "      <th>TRAILNAME</th>\n",
       "      <th>SHAPELEN</th>\n",
       "      <th>GLOBALID</th>\n",
       "      <th>geometry</th>\n",
       "    </tr>\n",
       "  </thead>\n",
       "  <tbody>\n",
       "    <tr>\n",
       "      <th>0</th>\n",
       "      <td>2568</td>\n",
       "      <td>OSMP</td>\n",
       "      <td>No</td>\n",
       "      <td>Yes</td>\n",
       "      <td>Hiking Trail</td>\n",
       "      <td>2005-12-31T00:00:00.000Z</td>\n",
       "      <td>2099-12-31T00:00:00.000Z</td>\n",
       "      <td>296-357-356</td>\n",
       "      <td>No</td>\n",
       "      <td>1000</td>\n",
       "      <td>296</td>\n",
       "      <td>0.106</td>\n",
       "      <td>-9999.0</td>\n",
       "      <td>Boulder Falls</td>\n",
       "      <td>562.147648</td>\n",
       "      <td>{118369E0-68A9-4089-8B04-295FBCA62CBB}</td>\n",
       "      <td>LINESTRING (-105.40585 40.00468, -105.40606 40...</td>\n",
       "    </tr>\n",
       "    <tr>\n",
       "      <th>1</th>\n",
       "      <td>2569</td>\n",
       "      <td>OSMP</td>\n",
       "      <td>Yes</td>\n",
       "      <td>Yes</td>\n",
       "      <td>Multi-Use Trail</td>\n",
       "      <td>2016-10-26T00:00:00.000Z</td>\n",
       "      <td>2099-12-31T00:00:00.000Z</td>\n",
       "      <td>116-424-421</td>\n",
       "      <td>Yes</td>\n",
       "      <td>1135</td>\n",
       "      <td>116</td>\n",
       "      <td>0.876</td>\n",
       "      <td>-9999.0</td>\n",
       "      <td>Flatirons Vista North</td>\n",
       "      <td>4625.547170</td>\n",
       "      <td>{FCFF5BB0-A953-4151-AA12-FB5EFD7B7C22}</td>\n",
       "      <td>LINESTRING (-105.23878 39.92365, -105.23881 39...</td>\n",
       "    </tr>\n",
       "    <tr>\n",
       "      <th>2</th>\n",
       "      <td>2570</td>\n",
       "      <td>OSMP</td>\n",
       "      <td>Yes</td>\n",
       "      <td>Yes</td>\n",
       "      <td>Multi-Use Trail</td>\n",
       "      <td>2016-10-25T00:00:00.000Z</td>\n",
       "      <td>2099-12-31T00:00:00.000Z</td>\n",
       "      <td>116-430-428</td>\n",
       "      <td>Yes</td>\n",
       "      <td>1140</td>\n",
       "      <td>116</td>\n",
       "      <td>0.019</td>\n",
       "      <td>-9999.0</td>\n",
       "      <td>Flatirons Vista North</td>\n",
       "      <td>102.623588</td>\n",
       "      <td>{A2917E15-8708-416C-8694-8A3E0871855B}</td>\n",
       "      <td>LINESTRING (-105.23569 39.92407, -105.23570 39...</td>\n",
       "    </tr>\n",
       "    <tr>\n",
       "      <th>3</th>\n",
       "      <td>2571</td>\n",
       "      <td>OSMP</td>\n",
       "      <td>Yes</td>\n",
       "      <td>Yes</td>\n",
       "      <td>Multi-Use Trail</td>\n",
       "      <td>2016-10-25T00:00:00.000Z</td>\n",
       "      <td>2099-12-31T00:00:00.000Z</td>\n",
       "      <td>116-425-424</td>\n",
       "      <td>Yes</td>\n",
       "      <td>1544</td>\n",
       "      <td>116</td>\n",
       "      <td>0.178</td>\n",
       "      <td>-9999.0</td>\n",
       "      <td>Flatirons Vista North</td>\n",
       "      <td>939.742819</td>\n",
       "      <td>{64EA49F9-8293-4859-AD3E-05244C78CAEB}</td>\n",
       "      <td>LINESTRING (-105.23655 39.92554, -105.23660 39...</td>\n",
       "    </tr>\n",
       "    <tr>\n",
       "      <th>4</th>\n",
       "      <td>2572</td>\n",
       "      <td>OSMP</td>\n",
       "      <td>Yes</td>\n",
       "      <td>Yes</td>\n",
       "      <td>Multi-Use Trail</td>\n",
       "      <td>2016-10-25T00:00:00.000Z</td>\n",
       "      <td>2099-12-31T00:00:00.000Z</td>\n",
       "      <td>117-429-428</td>\n",
       "      <td>Yes</td>\n",
       "      <td>1141</td>\n",
       "      <td>117</td>\n",
       "      <td>0.004</td>\n",
       "      <td>-9999.0</td>\n",
       "      <td>Prairie Vista</td>\n",
       "      <td>22.315176</td>\n",
       "      <td>{BE8E1241-78E1-4F43-9EA0-968591282E6D}</td>\n",
       "      <td>LINESTRING (-105.23555 39.92430, -105.23556 39...</td>\n",
       "    </tr>\n",
       "  </tbody>\n",
       "</table>\n",
       "</div>"
      ],
      "text/plain": [
       "   OBJECTID OWNER BICYCLES DISPLAY        TRAILTYPE                  DATEFROM  \\\n",
       "0      2568  OSMP       No     Yes     Hiking Trail  2005-12-31T00:00:00.000Z   \n",
       "1      2569  OSMP      Yes     Yes  Multi-Use Trail  2016-10-26T00:00:00.000Z   \n",
       "2      2570  OSMP      Yes     Yes  Multi-Use Trail  2016-10-25T00:00:00.000Z   \n",
       "3      2571  OSMP      Yes     Yes  Multi-Use Trail  2016-10-25T00:00:00.000Z   \n",
       "4      2572  OSMP      Yes     Yes  Multi-Use Trail  2016-10-25T00:00:00.000Z   \n",
       "\n",
       "                     DATETO    SEGMENTID HORSES   RID  TRLID  MILEAGE  \\\n",
       "0  2099-12-31T00:00:00.000Z  296-357-356     No  1000    296    0.106   \n",
       "1  2099-12-31T00:00:00.000Z  116-424-421    Yes  1135    116    0.876   \n",
       "2  2099-12-31T00:00:00.000Z  116-430-428    Yes  1140    116    0.019   \n",
       "3  2099-12-31T00:00:00.000Z  116-425-424    Yes  1544    116    0.178   \n",
       "4  2099-12-31T00:00:00.000Z  117-429-428    Yes  1141    117    0.004   \n",
       "\n",
       "   MEASUREDFE              TRAILNAME     SHAPELEN  \\\n",
       "0     -9999.0          Boulder Falls   562.147648   \n",
       "1     -9999.0  Flatirons Vista North  4625.547170   \n",
       "2     -9999.0  Flatirons Vista North   102.623588   \n",
       "3     -9999.0  Flatirons Vista North   939.742819   \n",
       "4     -9999.0          Prairie Vista    22.315176   \n",
       "\n",
       "                                 GLOBALID  \\\n",
       "0  {118369E0-68A9-4089-8B04-295FBCA62CBB}   \n",
       "1  {FCFF5BB0-A953-4151-AA12-FB5EFD7B7C22}   \n",
       "2  {A2917E15-8708-416C-8694-8A3E0871855B}   \n",
       "3  {64EA49F9-8293-4859-AD3E-05244C78CAEB}   \n",
       "4  {BE8E1241-78E1-4F43-9EA0-968591282E6D}   \n",
       "\n",
       "                                            geometry  \n",
       "0  LINESTRING (-105.40585 40.00468, -105.40606 40...  \n",
       "1  LINESTRING (-105.23878 39.92365, -105.23881 39...  \n",
       "2  LINESTRING (-105.23569 39.92407, -105.23570 39...  \n",
       "3  LINESTRING (-105.23655 39.92554, -105.23660 39...  \n",
       "4  LINESTRING (-105.23555 39.92430, -105.23556 39...  "
      ]
     },
     "execution_count": 4,
     "metadata": {},
     "output_type": "execute_result"
    }
   ],
   "source": [
    "trails.head()"
   ]
  },
  {
   "cell_type": "markdown",
   "metadata": {},
   "source": [
    "#### You can also view all column headers:\n",
    "    >>> trails.columns"
   ]
  },
  {
   "cell_type": "code",
   "execution_count": 5,
   "metadata": {},
   "outputs": [
    {
     "data": {
      "text/plain": [
       "Index(['OBJECTID', 'OWNER', 'BICYCLES', 'DISPLAY', 'TRAILTYPE', 'DATEFROM',\n",
       "       'DATETO', 'SEGMENTID', 'HORSES', 'RID', 'TRLID', 'MILEAGE',\n",
       "       'MEASUREDFE', 'TRAILNAME', 'SHAPELEN', 'GLOBALID', 'geometry'],\n",
       "      dtype='object')"
      ]
     },
     "execution_count": 5,
     "metadata": {},
     "output_type": "execute_result"
    }
   ],
   "source": [
    "trails.columns"
   ]
  },
  {
   "cell_type": "markdown",
   "metadata": {},
   "source": [
    "#### You can also call up just one column:\n",
    "    >>> trails.TRAILTYPE"
   ]
  },
  {
   "cell_type": "code",
   "execution_count": 6,
   "metadata": {},
   "outputs": [
    {
     "data": {
      "text/plain": [
       "0         Hiking Trail\n",
       "1      Multi-Use Trail\n",
       "2      Multi-Use Trail\n",
       "3      Multi-Use Trail\n",
       "4      Multi-Use Trail\n",
       "            ...       \n",
       "574       Hiking Trail\n",
       "575       Hiking Trail\n",
       "576       Hiking Trail\n",
       "577       Hiking Trail\n",
       "578       Hiking Trail\n",
       "Name: TRAILTYPE, Length: 579, dtype: object"
      ]
     },
     "execution_count": 6,
     "metadata": {},
     "output_type": "execute_result"
    }
   ],
   "source": [
    "trails.TRAILTYPE"
   ]
  },
  {
   "cell_type": "markdown",
   "metadata": {},
   "source": [
    "#### Now take a look at the trail data by plotting it:\n",
    "    >>> trails.plot()"
   ]
  },
  {
   "cell_type": "code",
   "execution_count": 7,
   "metadata": {},
   "outputs": [
    {
     "data": {
      "text/plain": [
       "<matplotlib.axes._subplots.AxesSubplot at 0x7f54e4c3f278>"
      ]
     },
     "execution_count": 7,
     "metadata": {},
     "output_type": "execute_result"
    },
    {
     "data": {
      "image/png": "[encoded data removed]",
      "text/plain": [
       "<Figure size 432x288 with 1 Axes>"
      ]
     },
     "metadata": {
      "needs_background": "light"
     },
     "output_type": "display_data"
    }
   ],
   "source": [
    "trails.plot()"
   ]
  },
  {
   "cell_type": "markdown",
   "metadata": {},
   "source": [
    "#### You can also filter by attributes and create a new variable from the result:\n",
    "    >>> bikeTrails = trails.loc[trails['BICYCLES']=='Yes']\n",
    "    >>> bikeTrails"
   ]
  },
  {
   "cell_type": "code",
   "execution_count": 8,
   "metadata": {},
   "outputs": [
    {
     "data": {
      "text/html": [
       "<div>\n",
       "<style scoped>\n",
       "    .dataframe tbody tr th:only-of-type {\n",
       "        vertical-align: middle;\n",
       "    }\n",
       "\n",
       "    .dataframe tbody tr th {\n",
       "        vertical-align: top;\n",
       "    }\n",
       "\n",
       "    .dataframe thead th {\n",
       "        text-align: right;\n",
       "    }\n",
       "</style>\n",
       "<table border=\"1\" class=\"dataframe\">\n",
       "  <thead>\n",
       "    <tr style=\"text-align: right;\">\n",
       "      <th></th>\n",
       "      <th>OBJECTID</th>\n",
       "      <th>OWNER</th>\n",
       "      <th>BICYCLES</th>\n",
       "      <th>DISPLAY</th>\n",
       "      <th>TRAILTYPE</th>\n",
       "      <th>DATEFROM</th>\n",
       "      <th>DATETO</th>\n",
       "      <th>SEGMENTID</th>\n",
       "      <th>HORSES</th>\n",
       "      <th>RID</th>\n",
       "      <th>TRLID</th>\n",
       "      <th>MILEAGE</th>\n",
       "      <th>MEASUREDFE</th>\n",
       "      <th>TRAILNAME</th>\n",
       "      <th>SHAPELEN</th>\n",
       "      <th>GLOBALID</th>\n",
       "      <th>geometry</th>\n",
       "    </tr>\n",
       "  </thead>\n",
       "  <tbody>\n",
       "    <tr>\n",
       "      <th>1</th>\n",
       "      <td>2569</td>\n",
       "      <td>OSMP</td>\n",
       "      <td>Yes</td>\n",
       "      <td>Yes</td>\n",
       "      <td>Multi-Use Trail</td>\n",
       "      <td>2016-10-26T00:00:00.000Z</td>\n",
       "      <td>2099-12-31T00:00:00.000Z</td>\n",
       "      <td>116-424-421</td>\n",
       "      <td>Yes</td>\n",
       "      <td>1135</td>\n",
       "      <td>116</td>\n",
       "      <td>0.876</td>\n",
       "      <td>-9999.0</td>\n",
       "      <td>Flatirons Vista North</td>\n",
       "      <td>4625.547170</td>\n",
       "      <td>{FCFF5BB0-A953-4151-AA12-FB5EFD7B7C22}</td>\n",
       "      <td>LINESTRING (-105.23878 39.92365, -105.23881 39...</td>\n",
       "    </tr>\n",
       "    <tr>\n",
       "      <th>2</th>\n",
       "      <td>2570</td>\n",
       "      <td>OSMP</td>\n",
       "      <td>Yes</td>\n",
       "      <td>Yes</td>\n",
       "      <td>Multi-Use Trail</td>\n",
       "      <td>2016-10-25T00:00:00.000Z</td>\n",
       "      <td>2099-12-31T00:00:00.000Z</td>\n",
       "      <td>116-430-428</td>\n",
       "      <td>Yes</td>\n",
       "      <td>1140</td>\n",
       "      <td>116</td>\n",
       "      <td>0.019</td>\n",
       "      <td>-9999.0</td>\n",
       "      <td>Flatirons Vista North</td>\n",
       "      <td>102.623588</td>\n",
       "      <td>{A2917E15-8708-416C-8694-8A3E0871855B}</td>\n",
       "      <td>LINESTRING (-105.23569 39.92407, -105.23570 39...</td>\n",
       "    </tr>\n",
       "    <tr>\n",
       "      <th>3</th>\n",
       "      <td>2571</td>\n",
       "      <td>OSMP</td>\n",
       "      <td>Yes</td>\n",
       "      <td>Yes</td>\n",
       "      <td>Multi-Use Trail</td>\n",
       "      <td>2016-10-25T00:00:00.000Z</td>\n",
       "      <td>2099-12-31T00:00:00.000Z</td>\n",
       "      <td>116-425-424</td>\n",
       "      <td>Yes</td>\n",
       "      <td>1544</td>\n",
       "      <td>116</td>\n",
       "      <td>0.178</td>\n",
       "      <td>-9999.0</td>\n",
       "      <td>Flatirons Vista North</td>\n",
       "      <td>939.742819</td>\n",
       "      <td>{64EA49F9-8293-4859-AD3E-05244C78CAEB}</td>\n",
       "      <td>LINESTRING (-105.23655 39.92554, -105.23660 39...</td>\n",
       "    </tr>\n",
       "    <tr>\n",
       "      <th>4</th>\n",
       "      <td>2572</td>\n",
       "      <td>OSMP</td>\n",
       "      <td>Yes</td>\n",
       "      <td>Yes</td>\n",
       "      <td>Multi-Use Trail</td>\n",
       "      <td>2016-10-25T00:00:00.000Z</td>\n",
       "      <td>2099-12-31T00:00:00.000Z</td>\n",
       "      <td>117-429-428</td>\n",
       "      <td>Yes</td>\n",
       "      <td>1141</td>\n",
       "      <td>117</td>\n",
       "      <td>0.004</td>\n",
       "      <td>-9999.0</td>\n",
       "      <td>Prairie Vista</td>\n",
       "      <td>22.315176</td>\n",
       "      <td>{BE8E1241-78E1-4F43-9EA0-968591282E6D}</td>\n",
       "      <td>LINESTRING (-105.23555 39.92430, -105.23556 39...</td>\n",
       "    </tr>\n",
       "    <tr>\n",
       "      <th>5</th>\n",
       "      <td>2573</td>\n",
       "      <td>OSMP</td>\n",
       "      <td>Yes</td>\n",
       "      <td>Yes</td>\n",
       "      <td>Multi-Use Trail</td>\n",
       "      <td>2016-10-25T00:00:00.000Z</td>\n",
       "      <td>2099-12-31T00:00:00.000Z</td>\n",
       "      <td>117-427-423</td>\n",
       "      <td>Yes</td>\n",
       "      <td>1545</td>\n",
       "      <td>117</td>\n",
       "      <td>0.199</td>\n",
       "      <td>-9999.0</td>\n",
       "      <td>Prairie Vista</td>\n",
       "      <td>1049.725608</td>\n",
       "      <td>{74B9B1A6-1368-4BA2-9A6A-9106F7C56135}</td>\n",
       "      <td>LINESTRING (-105.23563 39.92439, -105.23563 39...</td>\n",
       "    </tr>\n",
       "    <tr>\n",
       "      <th>...</th>\n",
       "      <td>...</td>\n",
       "      <td>...</td>\n",
       "      <td>...</td>\n",
       "      <td>...</td>\n",
       "      <td>...</td>\n",
       "      <td>...</td>\n",
       "      <td>...</td>\n",
       "      <td>...</td>\n",
       "      <td>...</td>\n",
       "      <td>...</td>\n",
       "      <td>...</td>\n",
       "      <td>...</td>\n",
       "      <td>...</td>\n",
       "      <td>...</td>\n",
       "      <td>...</td>\n",
       "      <td>...</td>\n",
       "      <td>...</td>\n",
       "    </tr>\n",
       "    <tr>\n",
       "      <th>443</th>\n",
       "      <td>3370</td>\n",
       "      <td>OSMP</td>\n",
       "      <td>Yes</td>\n",
       "      <td>Yes</td>\n",
       "      <td>Multi-Use Trail</td>\n",
       "      <td>2015-04-09T00:00:00.000Z</td>\n",
       "      <td>2099-12-31T00:00:00.000Z</td>\n",
       "      <td>403-622-674</td>\n",
       "      <td>Yes</td>\n",
       "      <td>1592</td>\n",
       "      <td>403</td>\n",
       "      <td>0.032</td>\n",
       "      <td>138.0</td>\n",
       "      <td>Foothills South</td>\n",
       "      <td>166.390898</td>\n",
       "      <td>{2004BF80-764B-4277-B81A-D50A331C634A}</td>\n",
       "      <td>LINESTRING (-105.28883 40.06240, -105.28883 40...</td>\n",
       "    </tr>\n",
       "    <tr>\n",
       "      <th>459</th>\n",
       "      <td>3387</td>\n",
       "      <td>OSMP</td>\n",
       "      <td>Yes</td>\n",
       "      <td>Yes</td>\n",
       "      <td>Multi-Use Trail</td>\n",
       "      <td>2019-06-20T00:00:00.000Z</td>\n",
       "      <td>2099-12-31T00:00:00.000Z</td>\n",
       "      <td>403-618-621</td>\n",
       "      <td>Yes</td>\n",
       "      <td>1694</td>\n",
       "      <td>403</td>\n",
       "      <td>0.219</td>\n",
       "      <td>NaN</td>\n",
       "      <td>Foothills South</td>\n",
       "      <td>1157.710963</td>\n",
       "      <td>{9C7A1C42-0A4B-4F9E-84F7-166C8FE38FD5}</td>\n",
       "      <td>LINESTRING (-105.29140 40.06012, -105.29138 40...</td>\n",
       "    </tr>\n",
       "    <tr>\n",
       "      <th>460</th>\n",
       "      <td>3388</td>\n",
       "      <td>OSMP</td>\n",
       "      <td>Yes</td>\n",
       "      <td>Yes</td>\n",
       "      <td>Multi-Use Trail</td>\n",
       "      <td>2019-06-20T00:00:00.000Z</td>\n",
       "      <td>2099-12-31T00:00:00.000Z</td>\n",
       "      <td>403-617-618</td>\n",
       "      <td>Yes</td>\n",
       "      <td>1695</td>\n",
       "      <td>403</td>\n",
       "      <td>0.072</td>\n",
       "      <td>NaN</td>\n",
       "      <td>Foothills South</td>\n",
       "      <td>378.164900</td>\n",
       "      <td>{457AD6EC-A830-40C5-89FF-1C531C78C487}</td>\n",
       "      <td>LINESTRING (-105.29144 40.05908, -105.29144 40...</td>\n",
       "    </tr>\n",
       "    <tr>\n",
       "      <th>461</th>\n",
       "      <td>3389</td>\n",
       "      <td>OSMP</td>\n",
       "      <td>Yes</td>\n",
       "      <td>Yes</td>\n",
       "      <td>Multi-Use Trail</td>\n",
       "      <td>2019-06-20T00:00:00.000Z</td>\n",
       "      <td>2099-12-31T00:00:00.000Z</td>\n",
       "      <td>403-615-617</td>\n",
       "      <td>Yes</td>\n",
       "      <td>1696</td>\n",
       "      <td>403</td>\n",
       "      <td>0.452</td>\n",
       "      <td>NaN</td>\n",
       "      <td>Foothills South</td>\n",
       "      <td>2388.989417</td>\n",
       "      <td>{36D74C83-7AB4-4328-ACF6-1BE2D9E0B6C9}</td>\n",
       "      <td>LINESTRING (-105.29247 40.05301, -105.29247 40...</td>\n",
       "    </tr>\n",
       "    <tr>\n",
       "      <th>481</th>\n",
       "      <td>3409</td>\n",
       "      <td>OSMP</td>\n",
       "      <td>Yes</td>\n",
       "      <td>Yes</td>\n",
       "      <td>Multi-Use Trail</td>\n",
       "      <td>2019-07-10T00:00:00.000Z</td>\n",
       "      <td>2099-12-31T00:00:00.000Z</td>\n",
       "      <td>112-434-433</td>\n",
       "      <td>Yes</td>\n",
       "      <td>1708</td>\n",
       "      <td>112</td>\n",
       "      <td>2.667</td>\n",
       "      <td>NaN</td>\n",
       "      <td>High Plains</td>\n",
       "      <td>14083.727879</td>\n",
       "      <td>{E6F13C70-97C3-44A2-BB61-784FC0FE9628}</td>\n",
       "      <td>LINESTRING (-105.20617 39.91431, -105.20617 39...</td>\n",
       "    </tr>\n",
       "  </tbody>\n",
       "</table>\n",
       "<p>130 rows × 17 columns</p>\n",
       "</div>"
      ],
      "text/plain": [
       "     OBJECTID OWNER BICYCLES DISPLAY        TRAILTYPE  \\\n",
       "1        2569  OSMP      Yes     Yes  Multi-Use Trail   \n",
       "2        2570  OSMP      Yes     Yes  Multi-Use Trail   \n",
       "3        2571  OSMP      Yes     Yes  Multi-Use Trail   \n",
       "4        2572  OSMP      Yes     Yes  Multi-Use Trail   \n",
       "5        2573  OSMP      Yes     Yes  Multi-Use Trail   \n",
       "..        ...   ...      ...     ...              ...   \n",
       "443      3370  OSMP      Yes     Yes  Multi-Use Trail   \n",
       "459      3387  OSMP      Yes     Yes  Multi-Use Trail   \n",
       "460      3388  OSMP      Yes     Yes  Multi-Use Trail   \n",
       "461      3389  OSMP      Yes     Yes  Multi-Use Trail   \n",
       "481      3409  OSMP      Yes     Yes  Multi-Use Trail   \n",
       "\n",
       "                     DATEFROM                    DATETO    SEGMENTID HORSES  \\\n",
       "1    2016-10-26T00:00:00.000Z  2099-12-31T00:00:00.000Z  116-424-421    Yes   \n",
       "2    2016-10-25T00:00:00.000Z  2099-12-31T00:00:00.000Z  116-430-428    Yes   \n",
       "3    2016-10-25T00:00:00.000Z  2099-12-31T00:00:00.000Z  116-425-424    Yes   \n",
       "4    2016-10-25T00:00:00.000Z  2099-12-31T00:00:00.000Z  117-429-428    Yes   \n",
       "5    2016-10-25T00:00:00.000Z  2099-12-31T00:00:00.000Z  117-427-423    Yes   \n",
       "..                        ...                       ...          ...    ...   \n",
       "443  2015-04-09T00:00:00.000Z  2099-12-31T00:00:00.000Z  403-622-674    Yes   \n",
       "459  2019-06-20T00:00:00.000Z  2099-12-31T00:00:00.000Z  403-618-621    Yes   \n",
       "460  2019-06-20T00:00:00.000Z  2099-12-31T00:00:00.000Z  403-617-618    Yes   \n",
       "461  2019-06-20T00:00:00.000Z  2099-12-31T00:00:00.000Z  403-615-617    Yes   \n",
       "481  2019-07-10T00:00:00.000Z  2099-12-31T00:00:00.000Z  112-434-433    Yes   \n",
       "\n",
       "      RID  TRLID  MILEAGE  MEASUREDFE              TRAILNAME      SHAPELEN  \\\n",
       "1    1135    116    0.876     -9999.0  Flatirons Vista North   4625.547170   \n",
       "2    1140    116    0.019     -9999.0  Flatirons Vista North    102.623588   \n",
       "3    1544    116    0.178     -9999.0  Flatirons Vista North    939.742819   \n",
       "4    1141    117    0.004     -9999.0          Prairie Vista     22.315176   \n",
       "5    1545    117    0.199     -9999.0          Prairie Vista   1049.725608   \n",
       "..    ...    ...      ...         ...                    ...           ...   \n",
       "443  1592    403    0.032       138.0        Foothills South    166.390898   \n",
       "459  1694    403    0.219         NaN        Foothills South   1157.710963   \n",
       "460  1695    403    0.072         NaN        Foothills South    378.164900   \n",
       "461  1696    403    0.452         NaN        Foothills South   2388.989417   \n",
       "481  1708    112    2.667         NaN            High Plains  14083.727879   \n",
       "\n",
       "                                   GLOBALID  \\\n",
       "1    {FCFF5BB0-A953-4151-AA12-FB5EFD7B7C22}   \n",
       "2    {A2917E15-8708-416C-8694-8A3E0871855B}   \n",
       "3    {64EA49F9-8293-4859-AD3E-05244C78CAEB}   \n",
       "4    {BE8E1241-78E1-4F43-9EA0-968591282E6D}   \n",
       "5    {74B9B1A6-1368-4BA2-9A6A-9106F7C56135}   \n",
       "..                                      ...   \n",
       "443  {2004BF80-764B-4277-B81A-D50A331C634A}   \n",
       "459  {9C7A1C42-0A4B-4F9E-84F7-166C8FE38FD5}   \n",
       "460  {457AD6EC-A830-40C5-89FF-1C531C78C487}   \n",
       "461  {36D74C83-7AB4-4328-ACF6-1BE2D9E0B6C9}   \n",
       "481  {E6F13C70-97C3-44A2-BB61-784FC0FE9628}   \n",
       "\n",
       "                                              geometry  \n",
       "1    LINESTRING (-105.23878 39.92365, -105.23881 39...  \n",
       "2    LINESTRING (-105.23569 39.92407, -105.23570 39...  \n",
       "3    LINESTRING (-105.23655 39.92554, -105.23660 39...  \n",
       "4    LINESTRING (-105.23555 39.92430, -105.23556 39...  \n",
       "5    LINESTRING (-105.23563 39.92439, -105.23563 39...  \n",
       "..                                                 ...  \n",
       "443  LINESTRING (-105.28883 40.06240, -105.28883 40...  \n",
       "459  LINESTRING (-105.29140 40.06012, -105.29138 40...  \n",
       "460  LINESTRING (-105.29144 40.05908, -105.29144 40...  \n",
       "461  LINESTRING (-105.29247 40.05301, -105.29247 40...  \n",
       "481  LINESTRING (-105.20617 39.91431, -105.20617 39...  \n",
       "\n",
       "[130 rows x 17 columns]"
      ]
     },
     "execution_count": 8,
     "metadata": {},
     "output_type": "execute_result"
    }
   ],
   "source": [
    "bikeTrails = trails.loc[trails['BICYCLES']=='Yes']\n",
    "bikeTrails"
   ]
  },
  {
   "cell_type": "markdown",
   "metadata": {},
   "source": [
    "#### Nice. You have a new geodataframe that is just bike trails. Plot them:\n",
    "    >>> bikeTrails.plot()"
   ]
  },
  {
   "cell_type": "code",
   "execution_count": 9,
   "metadata": {},
   "outputs": [
    {
     "data": {
      "text/plain": [
       "<matplotlib.axes._subplots.AxesSubplot at 0x7f54e4bd7ac8>"
      ]
     },
     "execution_count": 9,
     "metadata": {},
     "output_type": "execute_result"
    },
    {
     "data": {
      "image/png": "[encoded data removed]",
      "text/plain": [
       "<Figure size 432x288 with 1 Axes>"
      ]
     },
     "metadata": {
      "needs_background": "light"
     },
     "output_type": "display_data"
    }
   ],
   "source": [
    "bikeTrails.plot()"
   ]
  },
  {
   "cell_type": "markdown",
   "metadata": {},
   "source": [
    "#### Now, do the same for hiking trails, then count the results:\n",
    "    >>> hikeTrails = trails.loc[trails['TRAILTYPE']=='Hiking Trail']\n",
    "    >>> len(hikeTrails)"
   ]
  },
  {
   "cell_type": "code",
   "execution_count": 10,
   "metadata": {},
   "outputs": [
    {
     "data": {
      "text/plain": [
       "439"
      ]
     },
     "execution_count": 10,
     "metadata": {},
     "output_type": "execute_result"
    }
   ],
   "source": [
    "hikeTrails = trails.loc[trails['TRAILTYPE']=='Hiking Trail']\n",
    "len(hikeTrails)"
   ]
  },
  {
   "cell_type": "markdown",
   "metadata": {},
   "source": [
    "#### Do the same for horse trails:\n",
    "    >>> horseTrails = trails.loc[trails['HORSES']=='Yes']\n",
    "    >>> len(horseTrails)"
   ]
  },
  {
   "cell_type": "code",
   "execution_count": 11,
   "metadata": {},
   "outputs": [
    {
     "data": {
      "text/plain": [
       "467"
      ]
     },
     "execution_count": 11,
     "metadata": {},
     "output_type": "execute_result"
    }
   ],
   "source": [
    "horseTrails = trails.loc[trails['HORSES']=='Yes']\n",
    "len(horseTrails)"
   ]
  },
  {
   "cell_type": "markdown",
   "metadata": {},
   "source": [
    "#### Now, select all trails whose mileage is greater than 2 miles:\n",
    "    >>> trails.loc[trails['MILEAGE']>=2]"
   ]
  },
  {
   "cell_type": "code",
   "execution_count": 12,
   "metadata": {},
   "outputs": [
    {
     "data": {
      "text/html": [
       "<div>\n",
       "<style scoped>\n",
       "    .dataframe tbody tr th:only-of-type {\n",
       "        vertical-align: middle;\n",
       "    }\n",
       "\n",
       "    .dataframe tbody tr th {\n",
       "        vertical-align: top;\n",
       "    }\n",
       "\n",
       "    .dataframe thead th {\n",
       "        text-align: right;\n",
       "    }\n",
       "</style>\n",
       "<table border=\"1\" class=\"dataframe\">\n",
       "  <thead>\n",
       "    <tr style=\"text-align: right;\">\n",
       "      <th></th>\n",
       "      <th>OBJECTID</th>\n",
       "      <th>OWNER</th>\n",
       "      <th>BICYCLES</th>\n",
       "      <th>DISPLAY</th>\n",
       "      <th>TRAILTYPE</th>\n",
       "      <th>DATEFROM</th>\n",
       "      <th>DATETO</th>\n",
       "      <th>SEGMENTID</th>\n",
       "      <th>HORSES</th>\n",
       "      <th>RID</th>\n",
       "      <th>TRLID</th>\n",
       "      <th>MILEAGE</th>\n",
       "      <th>MEASUREDFE</th>\n",
       "      <th>TRAILNAME</th>\n",
       "      <th>SHAPELEN</th>\n",
       "      <th>GLOBALID</th>\n",
       "      <th>geometry</th>\n",
       "    </tr>\n",
       "  </thead>\n",
       "  <tbody>\n",
       "    <tr>\n",
       "      <th>49</th>\n",
       "      <td>2922</td>\n",
       "      <td>OSMP</td>\n",
       "      <td>Yes</td>\n",
       "      <td>Yes</td>\n",
       "      <td>Multi-Use Trail</td>\n",
       "      <td>2005-12-31T00:00:00.000Z</td>\n",
       "      <td>2099-12-31T00:00:00.000Z</td>\n",
       "      <td>408-652-675</td>\n",
       "      <td>Yes</td>\n",
       "      <td>1009</td>\n",
       "      <td>408</td>\n",
       "      <td>2.779</td>\n",
       "      <td>14775.0</td>\n",
       "      <td>Left Hand</td>\n",
       "      <td>14671.966605</td>\n",
       "      <td>{24656ACD-CE01-4D16-A322-DB00832F328C}</td>\n",
       "      <td>LINESTRING (-105.26275 40.08011, -105.26276 40...</td>\n",
       "    </tr>\n",
       "    <tr>\n",
       "      <th>117</th>\n",
       "      <td>2990</td>\n",
       "      <td>OSMP</td>\n",
       "      <td>Yes</td>\n",
       "      <td>Yes</td>\n",
       "      <td>Multi-Use Trail</td>\n",
       "      <td>2016-02-01T00:00:00.000Z</td>\n",
       "      <td>2099-12-31T00:00:00.000Z</td>\n",
       "      <td>501-537-555</td>\n",
       "      <td>Yes</td>\n",
       "      <td>1050</td>\n",
       "      <td>501</td>\n",
       "      <td>2.227</td>\n",
       "      <td>11862.0</td>\n",
       "      <td>East Boulder - White Rocks</td>\n",
       "      <td>11758.165168</td>\n",
       "      <td>{5D08B3D6-5CA7-4B84-A015-F5918D3D8732}</td>\n",
       "      <td>LINESTRING (-105.14279 40.04001, -105.14333 40...</td>\n",
       "    </tr>\n",
       "    <tr>\n",
       "      <th>481</th>\n",
       "      <td>3409</td>\n",
       "      <td>OSMP</td>\n",
       "      <td>Yes</td>\n",
       "      <td>Yes</td>\n",
       "      <td>Multi-Use Trail</td>\n",
       "      <td>2019-07-10T00:00:00.000Z</td>\n",
       "      <td>2099-12-31T00:00:00.000Z</td>\n",
       "      <td>112-434-433</td>\n",
       "      <td>Yes</td>\n",
       "      <td>1708</td>\n",
       "      <td>112</td>\n",
       "      <td>2.667</td>\n",
       "      <td>NaN</td>\n",
       "      <td>High Plains</td>\n",
       "      <td>14083.727879</td>\n",
       "      <td>{E6F13C70-97C3-44A2-BB61-784FC0FE9628}</td>\n",
       "      <td>LINESTRING (-105.20617 39.91431, -105.20617 39...</td>\n",
       "    </tr>\n",
       "  </tbody>\n",
       "</table>\n",
       "</div>"
      ],
      "text/plain": [
       "     OBJECTID OWNER BICYCLES DISPLAY        TRAILTYPE  \\\n",
       "49       2922  OSMP      Yes     Yes  Multi-Use Trail   \n",
       "117      2990  OSMP      Yes     Yes  Multi-Use Trail   \n",
       "481      3409  OSMP      Yes     Yes  Multi-Use Trail   \n",
       "\n",
       "                     DATEFROM                    DATETO    SEGMENTID HORSES  \\\n",
       "49   2005-12-31T00:00:00.000Z  2099-12-31T00:00:00.000Z  408-652-675    Yes   \n",
       "117  2016-02-01T00:00:00.000Z  2099-12-31T00:00:00.000Z  501-537-555    Yes   \n",
       "481  2019-07-10T00:00:00.000Z  2099-12-31T00:00:00.000Z  112-434-433    Yes   \n",
       "\n",
       "      RID  TRLID  MILEAGE  MEASUREDFE                   TRAILNAME  \\\n",
       "49   1009    408    2.779     14775.0                   Left Hand   \n",
       "117  1050    501    2.227     11862.0  East Boulder - White Rocks   \n",
       "481  1708    112    2.667         NaN                 High Plains   \n",
       "\n",
       "         SHAPELEN                                GLOBALID  \\\n",
       "49   14671.966605  {24656ACD-CE01-4D16-A322-DB00832F328C}   \n",
       "117  11758.165168  {5D08B3D6-5CA7-4B84-A015-F5918D3D8732}   \n",
       "481  14083.727879  {E6F13C70-97C3-44A2-BB61-784FC0FE9628}   \n",
       "\n",
       "                                              geometry  \n",
       "49   LINESTRING (-105.26275 40.08011, -105.26276 40...  \n",
       "117  LINESTRING (-105.14279 40.04001, -105.14333 40...  \n",
       "481  LINESTRING (-105.20617 39.91431, -105.20617 39...  "
      ]
     },
     "execution_count": 12,
     "metadata": {},
     "output_type": "execute_result"
    }
   ],
   "source": [
    "trails.loc[trails['MILEAGE']>=2]"
   ]
  },
  {
   "cell_type": "markdown",
   "metadata": {},
   "source": [
    "#### Interesting. Only 3 trails are 2 miles or greater in length? \n",
    "Not exactly. These are trail segments. Note in the original geodataframe that there are multiple rows with the same trail name.\n",
    "\n",
    "#### Let's all the unique trail names:\n",
    "    >>> trails.TRAILNAME.unique()"
   ]
  },
  {
   "cell_type": "code",
   "execution_count": 13,
   "metadata": {},
   "outputs": [
    {
     "data": {
      "text/plain": [
       "array(['Boulder Falls', 'Flatirons Vista North', 'Prairie Vista',\n",
       "       'Flatirons Vista South', 'Doudy Draw', 'Mount Sanitas', 'Anemone',\n",
       "       'IBM Connector', 'Cottontail', 'Eldorado Canyon',\n",
       "       'Green Mountain West Ridge', 'Bear Peak', '7th Street Connector',\n",
       "       '8th Street Connector', '9th Street Connector', 'Baseline',\n",
       "       '6th Street Connector West', 'Baseline Connector',\n",
       "       '6th Street Connector', 'Joder Ranch', 'Buckingham Park',\n",
       "       'Left Hand', 'Sage', 'North Rim', 'Eagle', 'Mesa Reservoir',\n",
       "       'Degge', 'Cobalt', 'Hidden Valley', 'Foothills North',\n",
       "       'Hogback Ridge', 'Foothills South', 'Foothills Spur', 'Old Kiln',\n",
       "       'Old Kiln Spur', 'Wonderland Lake',\n",
       "       'Foothills - Wonderland Lake spur', 'Wonderland Hill',\n",
       "       'East Boulder - Gunbarrel', 'East Boulder - White Rocks',\n",
       "       'East Boulder - Teller Farm', 'East Boulder - Teller Lake #5',\n",
       "       'East Boulder - Teller Farm Spur', 'East Boulder - Teller Spur',\n",
       "       'Sawhill Ponds', 'Cottonwood', 'Sombrero Marsh', 'Dry Creek',\n",
       "       'Centennial - Equestrian', 'South Boulder Creek', 'Cherryvale',\n",
       "       'Mayhoffer-Singletree', 'Cowdrey Draw', 'Community Ditch',\n",
       "       'Marshall Mesa', 'Marshall Valley', 'Coal Seam',\n",
       "       'Community Ditch Hwy 93 Spur', 'Greenbelt Connector', 'Coalton',\n",
       "       'Greenbelt Plateau', 'Marshall Valley - Accessible',\n",
       "       'Doudy Draw Picnic Area', 'Spring Brook Loop North',\n",
       "       'Spring Brook Loop South', 'Fowler', 'Goshawk Ridge',\n",
       "       'Doudy Draw Connector', 'Northern Quarry', \"Lion's Lair\",\n",
       "       \"Lion's Lair Spur\", 'Sanitas Valley', 'East Ridge', 'Dakota Ridge',\n",
       "       'Goat', 'Sanitas Spur', 'Sunshine Canyon', 'Sanitas Connector',\n",
       "       'Red Rocks', 'Red Rocks Spur', 'Viewpoint', 'Flagstaff',\n",
       "       'Halfway House', 'Panorama', 'Boy Scout', 'Chapman Drive',\n",
       "       'Plains Overlook', 'Sensory', 'Tenderfoot', 'Ute', 'Range View',\n",
       "       'Crown Rock', 'Crown Rock Picnic Loop', 'Sacred Cliffs',\n",
       "       'Gregory Canyon Spur', 'Green Mountain Summit', 'Bear Canyon',\n",
       "       'Bear Peak West Ridge', 'Fern Canyon', 'Green Bear',\n",
       "       'Gregory Canyon', 'Long Canyon', 'Lost Gulch', 'Ranger',\n",
       "       'Shadow Canyon', 'South Boulder Peak', 'Saddle Rock',\n",
       "       'E.M. Greenman', 'South Mesa Connector', 'Shadow Canyon North',\n",
       "       'Shanahan - Mesa', 'Mallory Cave', 'Royal Arch', 'Enchanted Mesa',\n",
       "       'Enchanted-Kohler Spur', 'Enchanted - McClintock Spur',\n",
       "       'Four Pines', 'McClintock Lower', 'McClintock Upper', 'Mesa',\n",
       "       \"Wood's Quarry\", 'Amphitheater Express', 'Flatirons Loop',\n",
       "       '1st/2nd Flatiron', 'Amphitheater', 'Baseline-Gregory Connector',\n",
       "       'Bluebell Mesa', 'Bluebell Road', 'Bluebell Spur',\n",
       "       'Bluebell-Baird', 'Meadow', 'Ski Jump', 'KOA Lake', 'Artist Point',\n",
       "       \"May's Point\", 'NCAR', 'NIST Service Rd Connector', 'Chautauqua',\n",
       "       'Shadow Canyon South', 'Dunn House Loop', 'NCAR - Bear Connector',\n",
       "       'High Plains', 'NCAR - Skunk Canyon', 'Kohler Mesa', 'Holly Berry',\n",
       "       'Skunk Connector', 'Skunk Canyon', 'NIST Service Rd',\n",
       "       'Kohler Spur', 'Skunk Canyon Spur', 'NCAR - Bear Canyon',\n",
       "       'Devils Thumb Access', 'Cragmoor Connector', 'South Fork Shanahan',\n",
       "       'Shanahan Connector', 'North Fork Shanahan',\n",
       "       'Hardscrabble Connector', 'NCAR - Table Mesa',\n",
       "       'NCAR - Table Mesa Bear', 'Lehigh Connector - South',\n",
       "       'Fern Meadow - Cragmoor', 'Greenbriar Connector',\n",
       "       'Lower Big Bluestem', 'Upper Big Bluestem', 'Bluestem Connector',\n",
       "       'Shadow Canyon South Spur', 'Homestead', 'Towhee',\n",
       "       'Mesa Connector', 'South Boulder Creek West',\n",
       "       'Lehigh Connector - North', 'Big Bluestem West', 'South Mesa Spur',\n",
       "       'NCAR Water Tank Rd'], dtype=object)"
      ]
     },
     "execution_count": 13,
     "metadata": {},
     "output_type": "execute_result"
    }
   ],
   "source": [
    "trails.TRAILNAME.unique()"
   ]
  },
  {
   "cell_type": "markdown",
   "metadata": {},
   "source": [
    "#### Find out how many unique trail names there are using the same len()\n",
    "    >>> len(trails.TRAILNAME.unique())"
   ]
  },
  {
   "cell_type": "code",
   "execution_count": 14,
   "metadata": {},
   "outputs": [
    {
     "data": {
      "text/plain": [
       "174"
      ]
     },
     "execution_count": 14,
     "metadata": {},
     "output_type": "execute_result"
    }
   ],
   "source": [
    "len(trails.TRAILNAME.unique())"
   ]
  },
  {
   "cell_type": "markdown",
   "metadata": {},
   "source": [
    "#### Now, let's take each row, group them by trail name, then sum up the total mileage of each trail by trail name:\n",
    "Sounds hard, but not really!  \n",
    "\n",
    "    >>> trailLengths = trails.groupby('TRAILNAME')['MILEAGE'].sum()\n",
    "    >>> trailLengths"
   ]
  },
  {
   "cell_type": "code",
   "execution_count": 16,
   "metadata": {},
   "outputs": [
    {
     "data": {
      "text/plain": [
       "TRAILNAME\n",
       "1st/2nd Flatiron             0.852\n",
       "6th Street Connector         0.283\n",
       "6th Street Connector West    0.033\n",
       "7th Street Connector         0.017\n",
       "8th Street Connector         0.018\n",
       "                             ...  \n",
       "Ute                          0.776\n",
       "Viewpoint                    1.112\n",
       "Wonderland Hill              0.983\n",
       "Wonderland Lake              1.083\n",
       "Wood's Quarry                0.399\n",
       "Name: MILEAGE, Length: 174, dtype: float64"
      ]
     },
     "execution_count": 16,
     "metadata": {},
     "output_type": "execute_result"
    }
   ],
   "source": [
    "trailLengths = trails.groupby('TRAILNAME')['MILEAGE'].sum()\n",
    "trailLengths"
   ]
  },
  {
   "cell_type": "markdown",
   "metadata": {},
   "source": [
    "#### Resetting the index will bring it into a Pandas dataframe:\n",
    "    >>> trailLengths = trailLengths.reset_index()\n",
    "    >>> trailLengths"
   ]
  },
  {
   "cell_type": "code",
   "execution_count": 17,
   "metadata": {},
   "outputs": [
    {
     "data": {
      "text/html": [
       "<div>\n",
       "<style scoped>\n",
       "    .dataframe tbody tr th:only-of-type {\n",
       "        vertical-align: middle;\n",
       "    }\n",
       "\n",
       "    .dataframe tbody tr th {\n",
       "        vertical-align: top;\n",
       "    }\n",
       "\n",
       "    .dataframe thead th {\n",
       "        text-align: right;\n",
       "    }\n",
       "</style>\n",
       "<table border=\"1\" class=\"dataframe\">\n",
       "  <thead>\n",
       "    <tr style=\"text-align: right;\">\n",
       "      <th></th>\n",
       "      <th>TRAILNAME</th>\n",
       "      <th>MILEAGE</th>\n",
       "    </tr>\n",
       "  </thead>\n",
       "  <tbody>\n",
       "    <tr>\n",
       "      <th>0</th>\n",
       "      <td>1st/2nd Flatiron</td>\n",
       "      <td>0.852</td>\n",
       "    </tr>\n",
       "    <tr>\n",
       "      <th>1</th>\n",
       "      <td>6th Street Connector</td>\n",
       "      <td>0.283</td>\n",
       "    </tr>\n",
       "    <tr>\n",
       "      <th>2</th>\n",
       "      <td>6th Street Connector West</td>\n",
       "      <td>0.033</td>\n",
       "    </tr>\n",
       "    <tr>\n",
       "      <th>3</th>\n",
       "      <td>7th Street Connector</td>\n",
       "      <td>0.017</td>\n",
       "    </tr>\n",
       "    <tr>\n",
       "      <th>4</th>\n",
       "      <td>8th Street Connector</td>\n",
       "      <td>0.018</td>\n",
       "    </tr>\n",
       "    <tr>\n",
       "      <th>...</th>\n",
       "      <td>...</td>\n",
       "      <td>...</td>\n",
       "    </tr>\n",
       "    <tr>\n",
       "      <th>169</th>\n",
       "      <td>Ute</td>\n",
       "      <td>0.776</td>\n",
       "    </tr>\n",
       "    <tr>\n",
       "      <th>170</th>\n",
       "      <td>Viewpoint</td>\n",
       "      <td>1.112</td>\n",
       "    </tr>\n",
       "    <tr>\n",
       "      <th>171</th>\n",
       "      <td>Wonderland Hill</td>\n",
       "      <td>0.983</td>\n",
       "    </tr>\n",
       "    <tr>\n",
       "      <th>172</th>\n",
       "      <td>Wonderland Lake</td>\n",
       "      <td>1.083</td>\n",
       "    </tr>\n",
       "    <tr>\n",
       "      <th>173</th>\n",
       "      <td>Wood's Quarry</td>\n",
       "      <td>0.399</td>\n",
       "    </tr>\n",
       "  </tbody>\n",
       "</table>\n",
       "<p>174 rows × 2 columns</p>\n",
       "</div>"
      ],
      "text/plain": [
       "                     TRAILNAME  MILEAGE\n",
       "0             1st/2nd Flatiron    0.852\n",
       "1         6th Street Connector    0.283\n",
       "2    6th Street Connector West    0.033\n",
       "3         7th Street Connector    0.017\n",
       "4         8th Street Connector    0.018\n",
       "..                         ...      ...\n",
       "169                        Ute    0.776\n",
       "170                  Viewpoint    1.112\n",
       "171            Wonderland Hill    0.983\n",
       "172            Wonderland Lake    1.083\n",
       "173              Wood's Quarry    0.399\n",
       "\n",
       "[174 rows x 2 columns]"
      ]
     },
     "execution_count": 17,
     "metadata": {},
     "output_type": "execute_result"
    }
   ],
   "source": [
    "trailLengths = trailLengths.reset_index()\n",
    "trailLengths"
   ]
  },
  {
   "cell_type": "markdown",
   "metadata": {},
   "source": [
    "#### Now you can export your dataframe to a csv:\n",
    "    >>> trailLengths.to_csv('trailLengths.csv')"
   ]
  },
  {
   "cell_type": "code",
   "execution_count": 18,
   "metadata": {},
   "outputs": [],
   "source": [
    "trailLengths.to_csv('trailLengths.csv')"
   ]
  },
  {
   "cell_type": "markdown",
   "metadata": {},
   "source": [
    "#### You should find it in your home folder.\n",
    "\n",
    "#### Now let's do a little more plotting:\n",
    "Import OSMP.shp and Boulder_Co.shp:  \n",
    "\n",
    "    >>> osmp = gpd.read_file('Data/OSMP.shp')\n",
    "    >>> county = gpd.read_file('data/Boulder_Co.shp')"
   ]
  },
  {
   "cell_type": "code",
   "execution_count": 19,
   "metadata": {},
   "outputs": [],
   "source": [
    "osmp = gpd.read_file('Data/OSMP.shp')\n",
    "county = gpd.read_file('Data/Boulder_Co.shp')"
   ]
  },
  {
   "cell_type": "markdown",
   "metadata": {},
   "source": [
    "#### Reset the county layer's crs to match the osmp layer:\n",
    "    >>> county = county.to_crs(osmp.crs)"
   ]
  },
  {
   "cell_type": "code",
   "execution_count": 20,
   "metadata": {},
   "outputs": [],
   "source": [
    "county = county.to_crs(osmp.crs)"
   ]
  },
  {
   "cell_type": "markdown",
   "metadata": {},
   "source": [
    "#### To plot more than two layers together, you must use 'fig' and a \"blank\" axis like so:\n",
    "    >>> fig, ax = plt.subplots(1, 1, figsize = (15,15))\n",
    "    >>> county.plot(ax=ax, color = '#F0E68C', edgecolor='black')\n",
    "    >>> osmp.plot(ax=ax, color = 'green', alpha=0.5)\n",
    "    >>> hikeTrails.plot(ax=ax, color='red')\n",
    "    >>> bikeTrails.plot(ax=ax, color='yellow')"
   ]
  },
  {
   "cell_type": "code",
   "execution_count": 25,
   "metadata": {},
   "outputs": [
    {
     "data": {
      "text/plain": [
       "<matplotlib.axes._subplots.AxesSubplot at 0x7f54e44720b8>"
      ]
     },
     "execution_count": 25,
     "metadata": {},
     "output_type": "execute_result"
    },
    {
     "data": {
      "image/png": "[encoded data removed]",
      "text/plain": [
       "<Figure size 1080x1080 with 1 Axes>"
      ]
     },
     "metadata": {
      "needs_background": "light"
     },
     "output_type": "display_data"
    }
   ],
   "source": [
    "fig, ax = plt.subplots(1, 1, figsize = (15,15))\n",
    "county.plot(ax=ax, color = '#F0E68C', edgecolor='black')\n",
    "osmp.plot(ax=ax, color='green', alpha=0.5)\n",
    "hikeTrails.plot(ax=ax, color='red')\n",
    "bikeTrails.plot(ax=ax, color='yellow')"
   ]
  },
  {
   "cell_type": "markdown",
   "metadata": {},
   "source": [
    "#### Nice job!"
   ]
  }
 ],
 "metadata": {
  "kernelspec": {
   "display_name": "Python 3",
   "language": "python",
   "name": "python3"
  },
  "language_info": {
   "codemirror_mode": {
    "name": "ipython",
    "version": 3
   },
   "file_extension": ".py",
   "mimetype": "text/x-python",
   "name": "python",
   "nbconvert_exporter": "python",
   "pygments_lexer": "ipython3",
   "version": "3.6.8"
  }
 },
 "nbformat": 4,
 "nbformat_minor": 2
}
