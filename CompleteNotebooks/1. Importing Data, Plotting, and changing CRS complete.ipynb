{
 "cells": [
  {
   "cell_type": "markdown",
   "metadata": {},
   "source": [
    "# Importing Data, Plotting, and Changing CRS\n",
    "\n",
    "In this notebook, we'll walk through some basics of [Pandas](https://pandas.pydata.org/), [Geopandas](http://geopandas.org/), and displaying your data with [MatPlotLib](https://matplotlib.org/).\n",
    "\n",
    "Start by importing pandas, geopandas, and matplotlib:\n",
    "\n",
    "    >>> import pandas as pd\n",
    "    >>> import geopandas as gpd\n",
    "    >>> import matplotlib.pyplot as plt\n",
    "    >>> import os"
   ]
  },
  {
   "cell_type": "code",
   "execution_count": 1,
   "metadata": {},
   "outputs": [],
   "source": [
    "import pandas as pd\n",
    "import geopandas as gpd\n",
    "import matplotlib.pyplot as plt\n",
    "import os"
   ]
  },
  {
   "cell_type": "markdown",
   "metadata": {},
   "source": [
    "It is important that we reset our working directory to the home folder. Use os.chdir() to move back one directory.\n",
    "\n",
    "##### Important: only run this once or you'll wind up in the wrong directory.\n",
    "\n",
    "    >>> os.chdir('../')\n",
    "    >>> os.getcwd()"
   ]
  },
  {
   "cell_type": "code",
   "execution_count": 5,
   "metadata": {},
   "outputs": [
    {
     "data": {
      "text/plain": [
       "'/home/jupyter-phwh9568'"
      ]
     },
     "execution_count": 5,
     "metadata": {},
     "output_type": "execute_result"
    }
   ],
   "source": [
    "os.chdir('../')\n",
    "os.getcwd()"
   ]
  },
  {
   "cell_type": "markdown",
   "metadata": {},
   "source": [
    "#### You can import a file using gpd.read_file()... \n",
    "\n",
    "    >>> gpd.read_file('Data/Boulder_Co.shp')"
   ]
  },
  {
   "cell_type": "code",
   "execution_count": 6,
   "metadata": {},
   "outputs": [
    {
     "data": {
      "text/html": [
       "<div>\n",
       "<style scoped>\n",
       "    .dataframe tbody tr th:only-of-type {\n",
       "        vertical-align: middle;\n",
       "    }\n",
       "\n",
       "    .dataframe tbody tr th {\n",
       "        vertical-align: top;\n",
       "    }\n",
       "\n",
       "    .dataframe thead th {\n",
       "        text-align: right;\n",
       "    }\n",
       "</style>\n",
       "<table border=\"1\" class=\"dataframe\">\n",
       "  <thead>\n",
       "    <tr style=\"text-align: right;\">\n",
       "      <th></th>\n",
       "      <th>PK_UID</th>\n",
       "      <th>COUNTY</th>\n",
       "      <th>CO_FIPS</th>\n",
       "      <th>POP_2000</th>\n",
       "      <th>HOUSEHO_00</th>\n",
       "      <th>SHAPE_Leng</th>\n",
       "      <th>SHAPE_Area</th>\n",
       "      <th>geometry</th>\n",
       "    </tr>\n",
       "  </thead>\n",
       "  <tbody>\n",
       "    <tr>\n",
       "      <th>0</th>\n",
       "      <td>4</td>\n",
       "      <td>BOULDER</td>\n",
       "      <td>13</td>\n",
       "      <td>291288.0</td>\n",
       "      <td>114680.0</td>\n",
       "      <td>221747.619148</td>\n",
       "      <td>1.917501e+09</td>\n",
       "      <td>MULTIPOLYGON (((478701.282 4456950.499, 479375...</td>\n",
       "    </tr>\n",
       "  </tbody>\n",
       "</table>\n",
       "</div>"
      ],
      "text/plain": [
       "   PK_UID   COUNTY  CO_FIPS  POP_2000  HOUSEHO_00     SHAPE_Leng  \\\n",
       "0       4  BOULDER       13  291288.0    114680.0  221747.619148   \n",
       "\n",
       "     SHAPE_Area                                           geometry  \n",
       "0  1.917501e+09  MULTIPOLYGON (((478701.282 4456950.499, 479375...  "
      ]
     },
     "execution_count": 6,
     "metadata": {},
     "output_type": "execute_result"
    }
   ],
   "source": [
    "gpd.read_file('Data/Boulder_Co.shp')"
   ]
  },
  {
   "cell_type": "markdown",
   "metadata": {},
   "source": [
    "#### Create a variable out of the Boulder County shapefile:\n",
    "\n",
    "    >>> county = gpd.read_file('Data/Boulder_Co.shp')"
   ]
  },
  {
   "cell_type": "code",
   "execution_count": 7,
   "metadata": {},
   "outputs": [],
   "source": [
    "county = gpd.read_file('Data/Boulder_Co.shp')"
   ]
  },
  {
   "cell_type": "markdown",
   "metadata": {},
   "source": [
    "#### Now, you can just call the variable and if you want to view it:\n",
    "\n",
    "    >>> county"
   ]
  },
  {
   "cell_type": "code",
   "execution_count": 8,
   "metadata": {},
   "outputs": [
    {
     "data": {
      "text/html": [
       "<div>\n",
       "<style scoped>\n",
       "    .dataframe tbody tr th:only-of-type {\n",
       "        vertical-align: middle;\n",
       "    }\n",
       "\n",
       "    .dataframe tbody tr th {\n",
       "        vertical-align: top;\n",
       "    }\n",
       "\n",
       "    .dataframe thead th {\n",
       "        text-align: right;\n",
       "    }\n",
       "</style>\n",
       "<table border=\"1\" class=\"dataframe\">\n",
       "  <thead>\n",
       "    <tr style=\"text-align: right;\">\n",
       "      <th></th>\n",
       "      <th>PK_UID</th>\n",
       "      <th>COUNTY</th>\n",
       "      <th>CO_FIPS</th>\n",
       "      <th>POP_2000</th>\n",
       "      <th>HOUSEHO_00</th>\n",
       "      <th>SHAPE_Leng</th>\n",
       "      <th>SHAPE_Area</th>\n",
       "      <th>geometry</th>\n",
       "    </tr>\n",
       "  </thead>\n",
       "  <tbody>\n",
       "    <tr>\n",
       "      <th>0</th>\n",
       "      <td>4</td>\n",
       "      <td>BOULDER</td>\n",
       "      <td>13</td>\n",
       "      <td>291288.0</td>\n",
       "      <td>114680.0</td>\n",
       "      <td>221747.619148</td>\n",
       "      <td>1.917501e+09</td>\n",
       "      <td>MULTIPOLYGON (((478701.282 4456950.499, 479375...</td>\n",
       "    </tr>\n",
       "  </tbody>\n",
       "</table>\n",
       "</div>"
      ],
      "text/plain": [
       "   PK_UID   COUNTY  CO_FIPS  POP_2000  HOUSEHO_00     SHAPE_Leng  \\\n",
       "0       4  BOULDER       13  291288.0    114680.0  221747.619148   \n",
       "\n",
       "     SHAPE_Area                                           geometry  \n",
       "0  1.917501e+09  MULTIPOLYGON (((478701.282 4456950.499, 479375...  "
      ]
     },
     "execution_count": 8,
     "metadata": {},
     "output_type": "execute_result"
    }
   ],
   "source": [
    "county"
   ]
  },
  {
   "cell_type": "markdown",
   "metadata": {},
   "source": [
    "#### Now, we'll use the MatPlotLib plot function to display the geometry of the shapefile:\n",
    "    >>> county.plot()"
   ]
  },
  {
   "cell_type": "code",
   "execution_count": 9,
   "metadata": {},
   "outputs": [
    {
     "data": {
      "text/plain": [
       "<matplotlib.axes._subplots.AxesSubplot at 0x7fd2d7bddc88>"
      ]
     },
     "execution_count": 9,
     "metadata": {},
     "output_type": "execute_result"
    },
    {
     "data": {
      "image/png": "[encoded data removed]",
      "text/plain": [
       "<Figure size 432x288 with 1 Axes>"
      ]
     },
     "metadata": {
      "needs_background": "light"
     },
     "output_type": "display_data"
    }
   ],
   "source": [
    "county.plot()"
   ]
  },
  {
   "cell_type": "markdown",
   "metadata": {},
   "source": [
    "#### You can enter parameters between the parentheses. Let's change the color of Boulder County to green:\n",
    "    >>> county.plot(color='green')"
   ]
  },
  {
   "cell_type": "code",
   "execution_count": 10,
   "metadata": {},
   "outputs": [
    {
     "data": {
      "text/plain": [
       "<matplotlib.axes._subplots.AxesSubplot at 0x7fd2d787a860>"
      ]
     },
     "execution_count": 10,
     "metadata": {},
     "output_type": "execute_result"
    },
    {
     "data": {
      "image/png": "[encoded data removed]",
      "text/plain": [
       "<Figure size 432x288 with 1 Axes>"
      ]
     },
     "metadata": {
      "needs_background": "light"
     },
     "output_type": "display_data"
    }
   ],
   "source": [
    "county.plot(color='green')"
   ]
  },
  {
   "cell_type": "markdown",
   "metadata": {},
   "source": [
    "#### You can change more than color... \n",
    "    >>> county.plot(color='green', edgecolor='black', alpha=0.5, figsize=(10,10))"
   ]
  },
  {
   "cell_type": "code",
   "execution_count": 11,
   "metadata": {},
   "outputs": [
    {
     "data": {
      "text/plain": [
       "<matplotlib.axes._subplots.AxesSubplot at 0x7fd2d783fb00>"
      ]
     },
     "execution_count": 11,
     "metadata": {},
     "output_type": "execute_result"
    },
    {
     "data": {
      "image/png": "[encoded data removed]",
      "text/plain": [
       "<Figure size 720x720 with 1 Axes>"
      ]
     },
     "metadata": {
      "needs_background": "light"
     },
     "output_type": "display_data"
    }
   ],
   "source": [
    "county.plot(color='green', edgecolor='black', alpha=0.5, figsize=(10,10))"
   ]
  },
  {
   "cell_type": "markdown",
   "metadata": {},
   "source": [
    "#### Not bad!  \n",
    "\n",
    "#### What coordinate reference system is this data in? We can check it using the .crs:\n",
    "    >>> county.crs"
   ]
  },
  {
   "cell_type": "code",
   "execution_count": 12,
   "metadata": {},
   "outputs": [
    {
     "data": {
      "text/plain": [
       "{'init': 'epsg:26913'}"
      ]
     },
     "execution_count": 12,
     "metadata": {},
     "output_type": "execute_result"
    }
   ],
   "source": [
    "county.crs"
   ]
  },
  {
   "cell_type": "markdown",
   "metadata": {},
   "source": [
    "##### Pro tip: go to https://spatialreference.org/ to check all the different epsg codes.  \n",
    "\n",
    "#### Now, let's read in another file, the Boulder City Limits shapefile: \n",
    "    >>> city = gpd.read_file('Data/City_Limites.shp')\n",
    "    >>> city\n"
   ]
  },
  {
   "cell_type": "code",
   "execution_count": 13,
   "metadata": {},
   "outputs": [
    {
     "data": {
      "text/html": [
       "<div>\n",
       "<style scoped>\n",
       "    .dataframe tbody tr th:only-of-type {\n",
       "        vertical-align: middle;\n",
       "    }\n",
       "\n",
       "    .dataframe tbody tr th {\n",
       "        vertical-align: top;\n",
       "    }\n",
       "\n",
       "    .dataframe thead th {\n",
       "        text-align: right;\n",
       "    }\n",
       "</style>\n",
       "<table border=\"1\" class=\"dataframe\">\n",
       "  <thead>\n",
       "    <tr style=\"text-align: right;\">\n",
       "      <th></th>\n",
       "      <th>OBJECTID</th>\n",
       "      <th>TYPE</th>\n",
       "      <th>SHAPEAREA</th>\n",
       "      <th>SHAPELEN</th>\n",
       "      <th>geometry</th>\n",
       "    </tr>\n",
       "  </thead>\n",
       "  <tbody>\n",
       "    <tr>\n",
       "      <th>0</th>\n",
       "      <td>26</td>\n",
       "      <td>City</td>\n",
       "      <td>2.092505e+07</td>\n",
       "      <td>34856.338250</td>\n",
       "      <td>POLYGON ((-105.26349 40.08020, -105.26347 40.0...</td>\n",
       "    </tr>\n",
       "    <tr>\n",
       "      <th>1</th>\n",
       "      <td>25</td>\n",
       "      <td>City</td>\n",
       "      <td>8.103168e+04</td>\n",
       "      <td>1661.732555</td>\n",
       "      <td>POLYGON ((-105.21128 40.01726, -105.21099 40.0...</td>\n",
       "    </tr>\n",
       "    <tr>\n",
       "      <th>2</th>\n",
       "      <td>24</td>\n",
       "      <td>City</td>\n",
       "      <td>4.062025e+07</td>\n",
       "      <td>64671.109443</td>\n",
       "      <td>POLYGON ((-105.18891 40.07596, -105.18899 40.0...</td>\n",
       "    </tr>\n",
       "    <tr>\n",
       "      <th>3</th>\n",
       "      <td>2</td>\n",
       "      <td>City</td>\n",
       "      <td>6.295215e+08</td>\n",
       "      <td>299444.754744</td>\n",
       "      <td>POLYGON ((-105.21457 40.00805, -105.21457 40.0...</td>\n",
       "    </tr>\n",
       "    <tr>\n",
       "      <th>4</th>\n",
       "      <td>23</td>\n",
       "      <td>City</td>\n",
       "      <td>7.137964e+07</td>\n",
       "      <td>45960.606599</td>\n",
       "      <td>POLYGON ((-105.19103 40.08976, -105.19214 40.0...</td>\n",
       "    </tr>\n",
       "  </tbody>\n",
       "</table>\n",
       "</div>"
      ],
      "text/plain": [
       "   OBJECTID  TYPE     SHAPEAREA       SHAPELEN  \\\n",
       "0        26  City  2.092505e+07   34856.338250   \n",
       "1        25  City  8.103168e+04    1661.732555   \n",
       "2        24  City  4.062025e+07   64671.109443   \n",
       "3         2  City  6.295215e+08  299444.754744   \n",
       "4        23  City  7.137964e+07   45960.606599   \n",
       "\n",
       "                                            geometry  \n",
       "0  POLYGON ((-105.26349 40.08020, -105.26347 40.0...  \n",
       "1  POLYGON ((-105.21128 40.01726, -105.21099 40.0...  \n",
       "2  POLYGON ((-105.18891 40.07596, -105.18899 40.0...  \n",
       "3  POLYGON ((-105.21457 40.00805, -105.21457 40.0...  \n",
       "4  POLYGON ((-105.19103 40.08976, -105.19214 40.0...  "
      ]
     },
     "execution_count": 13,
     "metadata": {},
     "output_type": "execute_result"
    }
   ],
   "source": [
    "city = gpd.read_file('Data/City_Limits.shp')\n",
    "city"
   ]
  },
  {
   "cell_type": "markdown",
   "metadata": {},
   "source": [
    "There are five polygons representing the city limits.  \n",
    "\n",
    "Use len to check how many rows there are in a Pandas/GeoPandas dataframe: \n",
    "\n",
    "    >>> len(city)"
   ]
  },
  {
   "cell_type": "code",
   "execution_count": 14,
   "metadata": {},
   "outputs": [
    {
     "data": {
      "text/plain": [
       "5"
      ]
     },
     "execution_count": 14,
     "metadata": {},
     "output_type": "execute_result"
    }
   ],
   "source": [
    "len(city)"
   ]
  },
  {
   "cell_type": "markdown",
   "metadata": {},
   "source": [
    "#### Plot it with the .plot() function:\n",
    "    >>> city.plot()"
   ]
  },
  {
   "cell_type": "code",
   "execution_count": 15,
   "metadata": {},
   "outputs": [
    {
     "data": {
      "text/plain": [
       "<matplotlib.axes._subplots.AxesSubplot at 0x7fd2d75b7eb8>"
      ]
     },
     "execution_count": 15,
     "metadata": {},
     "output_type": "execute_result"
    },
    {
     "data": {
      "image/png": "[encoded data removed]",
      "text/plain": [
       "<Figure size 432x288 with 1 Axes>"
      ]
     },
     "metadata": {
      "needs_background": "light"
     },
     "output_type": "display_data"
    }
   ],
   "source": [
    "city.plot()"
   ]
  },
  {
   "cell_type": "markdown",
   "metadata": {},
   "source": [
    "#### Let's take a minute to understand indexing in Python. Type in the following and view the different results.\n",
    "    >>> city[0:5]\n",
    "    >>> city[0:]\n",
    "    >>> city[1:3]\n",
    "    >>> city[:5]\n",
    "    >>> city[:-2]"
   ]
  },
  {
   "cell_type": "code",
   "execution_count": 16,
   "metadata": {},
   "outputs": [
    {
     "data": {
      "text/html": [
       "<div>\n",
       "<style scoped>\n",
       "    .dataframe tbody tr th:only-of-type {\n",
       "        vertical-align: middle;\n",
       "    }\n",
       "\n",
       "    .dataframe tbody tr th {\n",
       "        vertical-align: top;\n",
       "    }\n",
       "\n",
       "    .dataframe thead th {\n",
       "        text-align: right;\n",
       "    }\n",
       "</style>\n",
       "<table border=\"1\" class=\"dataframe\">\n",
       "  <thead>\n",
       "    <tr style=\"text-align: right;\">\n",
       "      <th></th>\n",
       "      <th>OBJECTID</th>\n",
       "      <th>TYPE</th>\n",
       "      <th>SHAPEAREA</th>\n",
       "      <th>SHAPELEN</th>\n",
       "      <th>geometry</th>\n",
       "    </tr>\n",
       "  </thead>\n",
       "  <tbody>\n",
       "    <tr>\n",
       "      <th>0</th>\n",
       "      <td>26</td>\n",
       "      <td>City</td>\n",
       "      <td>2.092505e+07</td>\n",
       "      <td>34856.338250</td>\n",
       "      <td>POLYGON ((-105.26349 40.08020, -105.26347 40.0...</td>\n",
       "    </tr>\n",
       "    <tr>\n",
       "      <th>1</th>\n",
       "      <td>25</td>\n",
       "      <td>City</td>\n",
       "      <td>8.103168e+04</td>\n",
       "      <td>1661.732555</td>\n",
       "      <td>POLYGON ((-105.21128 40.01726, -105.21099 40.0...</td>\n",
       "    </tr>\n",
       "    <tr>\n",
       "      <th>2</th>\n",
       "      <td>24</td>\n",
       "      <td>City</td>\n",
       "      <td>4.062025e+07</td>\n",
       "      <td>64671.109443</td>\n",
       "      <td>POLYGON ((-105.18891 40.07596, -105.18899 40.0...</td>\n",
       "    </tr>\n",
       "    <tr>\n",
       "      <th>3</th>\n",
       "      <td>2</td>\n",
       "      <td>City</td>\n",
       "      <td>6.295215e+08</td>\n",
       "      <td>299444.754744</td>\n",
       "      <td>POLYGON ((-105.21457 40.00805, -105.21457 40.0...</td>\n",
       "    </tr>\n",
       "    <tr>\n",
       "      <th>4</th>\n",
       "      <td>23</td>\n",
       "      <td>City</td>\n",
       "      <td>7.137964e+07</td>\n",
       "      <td>45960.606599</td>\n",
       "      <td>POLYGON ((-105.19103 40.08976, -105.19214 40.0...</td>\n",
       "    </tr>\n",
       "  </tbody>\n",
       "</table>\n",
       "</div>"
      ],
      "text/plain": [
       "   OBJECTID  TYPE     SHAPEAREA       SHAPELEN  \\\n",
       "0        26  City  2.092505e+07   34856.338250   \n",
       "1        25  City  8.103168e+04    1661.732555   \n",
       "2        24  City  4.062025e+07   64671.109443   \n",
       "3         2  City  6.295215e+08  299444.754744   \n",
       "4        23  City  7.137964e+07   45960.606599   \n",
       "\n",
       "                                            geometry  \n",
       "0  POLYGON ((-105.26349 40.08020, -105.26347 40.0...  \n",
       "1  POLYGON ((-105.21128 40.01726, -105.21099 40.0...  \n",
       "2  POLYGON ((-105.18891 40.07596, -105.18899 40.0...  \n",
       "3  POLYGON ((-105.21457 40.00805, -105.21457 40.0...  \n",
       "4  POLYGON ((-105.19103 40.08976, -105.19214 40.0...  "
      ]
     },
     "execution_count": 16,
     "metadata": {},
     "output_type": "execute_result"
    }
   ],
   "source": [
    "city[0:5]"
   ]
  },
  {
   "cell_type": "markdown",
   "metadata": {},
   "source": [
    "#### You can use index for a lot of things, including plotting:\n",
    "    >>> city[1:3].plot()"
   ]
  },
  {
   "cell_type": "code",
   "execution_count": 17,
   "metadata": {},
   "outputs": [
    {
     "data": {
      "text/plain": [
       "<matplotlib.axes._subplots.AxesSubplot at 0x7fd2d7771cc0>"
      ]
     },
     "execution_count": 17,
     "metadata": {},
     "output_type": "execute_result"
    },
    {
     "data": {
      "image/png": "[encoded data removed]",
      "text/plain": [
       "<Figure size 432x288 with 1 Axes>"
      ]
     },
     "metadata": {
      "needs_background": "light"
     },
     "output_type": "display_data"
    }
   ],
   "source": [
    "city[1:3].plot()"
   ]
  },
  {
   "cell_type": "markdown",
   "metadata": {},
   "source": [
    "#### Now let's plot both layers on top of one another.\n",
    "\n",
    "Start by making the county variable the plot \"axis\", then plot city using county as the axis...  \n",
    "\n",
    "    >>> ax = county.plot()\n",
    "    >>> city.plot(ax=ax)"
   ]
  },
  {
   "cell_type": "code",
   "execution_count": 18,
   "metadata": {},
   "outputs": [
    {
     "data": {
      "text/plain": [
       "<matplotlib.axes._subplots.AxesSubplot at 0x7fd2d76cfeb8>"
      ]
     },
     "execution_count": 18,
     "metadata": {},
     "output_type": "execute_result"
    },
    {
     "data": {
      "image/png": "[encoded data removed]",
      "text/plain": [
       "<Figure size 432x288 with 1 Axes>"
      ]
     },
     "metadata": {
      "needs_background": "light"
     },
     "output_type": "display_data"
    }
   ],
   "source": [
    "ax = county.plot()\n",
    "city.plot(ax=ax)"
   ]
  },
  {
   "cell_type": "markdown",
   "metadata": {},
   "source": [
    "### Hmm... what went wrong? \n",
    "\n",
    "start by checking city's crs...\n",
    "\n",
    "    >>> city.crs"
   ]
  },
  {
   "cell_type": "code",
   "execution_count": 19,
   "metadata": {},
   "outputs": [
    {
     "data": {
      "text/plain": [
       "{'init': 'epsg:4326'}"
      ]
     },
     "execution_count": 19,
     "metadata": {},
     "output_type": "execute_result"
    }
   ],
   "source": [
    "city.crs"
   ]
  },
  {
   "cell_type": "markdown",
   "metadata": {},
   "source": [
    "#### Ah ha. Not in the same projection as the county layer. But we can easily reset it to the county variable's crs:\n",
    "\n",
    "    >>> city = city.to_crs(county.crs)\n",
    "    >>> city.crs"
   ]
  },
  {
   "cell_type": "code",
   "execution_count": 20,
   "metadata": {},
   "outputs": [
    {
     "data": {
      "text/plain": [
       "{'init': 'epsg:26913'}"
      ]
     },
     "execution_count": 20,
     "metadata": {},
     "output_type": "execute_result"
    }
   ],
   "source": [
    "city = city.to_crs(county.crs)\n",
    "city.crs"
   ]
  },
  {
   "cell_type": "markdown",
   "metadata": {},
   "source": [
    "#### Okay! Now that both layers are in the same crs, we can try plotting again:\n",
    "\n",
    "    >>> ax = county.plot()\n",
    "    >>> city.plot(ax=ax)"
   ]
  },
  {
   "cell_type": "code",
   "execution_count": 22,
   "metadata": {},
   "outputs": [
    {
     "data": {
      "text/plain": [
       "<matplotlib.axes._subplots.AxesSubplot at 0x7fd2d76688d0>"
      ]
     },
     "execution_count": 22,
     "metadata": {},
     "output_type": "execute_result"
    },
    {
     "data": {
      "image/png": "[encoded data removed]",
      "text/plain": [
       "<Figure size 432x288 with 1 Axes>"
      ]
     },
     "metadata": {
      "needs_background": "light"
     },
     "output_type": "display_data"
    }
   ],
   "source": [
    "ax = county.plot()\n",
    "city.plot(ax=ax)"
   ]
  },
  {
   "cell_type": "markdown",
   "metadata": {},
   "source": [
    "#### It worked, but they're all the same color. So, let's work on changing the styling parameters:\n",
    "\n",
    "    >>> ax = county.plot(color='green', edgecolor='black', alpha=0.5, figsize=(10,10))\n",
    "    >>> city.plot(ax=ax, color='none', edgecolor='white')"
   ]
  },
  {
   "cell_type": "code",
   "execution_count": 23,
   "metadata": {},
   "outputs": [
    {
     "data": {
      "text/plain": [
       "<matplotlib.axes._subplots.AxesSubplot at 0x7fd2d758af98>"
      ]
     },
     "execution_count": 23,
     "metadata": {},
     "output_type": "execute_result"
    },
    {
     "data": {
      "image/png": "[encoded data removed]",
      "text/plain": [
       "<Figure size 720x720 with 1 Axes>"
      ]
     },
     "metadata": {
      "needs_background": "light"
     },
     "output_type": "display_data"
    }
   ],
   "source": [
    "ax = county.plot(color='green', edgecolor='black', alpha=0.5, figsize=(10,10))\n",
    "city.plot(ax=ax, color='none', edgecolor='white')"
   ]
  },
  {
   "cell_type": "markdown",
   "metadata": {},
   "source": [
    "#### Nice job!"
   ]
  },
  {
   "cell_type": "code",
   "execution_count": null,
   "metadata": {},
   "outputs": [],
   "source": []
  }
 ],
 "metadata": {
  "kernelspec": {
   "display_name": "Python 3",
   "language": "python",
   "name": "python3"
  },
  "language_info": {
   "codemirror_mode": {
    "name": "ipython",
    "version": 3
   },
   "file_extension": ".py",
   "mimetype": "text/x-python",
   "name": "python",
   "nbconvert_exporter": "python",
   "pygments_lexer": "ipython3",
   "version": "3.6.8"
  }
 },
 "nbformat": 4,
 "nbformat_minor": 2
}
