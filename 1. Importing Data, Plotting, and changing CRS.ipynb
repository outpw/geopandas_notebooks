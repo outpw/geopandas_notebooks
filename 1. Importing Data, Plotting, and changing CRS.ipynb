{
 "cells": [
  {
   "cell_type": "markdown",
   "metadata": {},
   "source": [
    "# Importing Data, Plotting, and Changing CRS\n",
    "\n",
    "In this notebook, we'll walk through some basics of [Pandas](https://pandas.pydata.org/), [Geopandas](http://geopandas.org/), and displaying your data with [MatPlotLib](https://matplotlib.org/).\n",
    "\n",
    "Start by importing pandas, geopandas, and matplotlib:\n",
    "\n",
    "    >>> import pandas as pd\n",
    "    >>> import geopandas as gpd\n",
    "    >>> import matplotlib.pyplot as plt\n",
    "    >>> import os"
   ]
  },
  {
   "cell_type": "code",
   "execution_count": null,
   "metadata": {},
   "outputs": [],
   "source": []
  },
  {
   "cell_type": "markdown",
   "metadata": {},
   "source": [
    "It is important that we reset our working directory to the home folder. Use os.chdir() to move back one directory.\n",
    "\n",
    "##### Important: only run this once or you'll wind up in the wrong directory.\n",
    "\n",
    "    >>> os.chdir('../')\n",
    "    >>> os.getcwd()"
   ]
  },
  {
   "cell_type": "code",
   "execution_count": null,
   "metadata": {},
   "outputs": [],
   "source": []
  },
  {
   "cell_type": "markdown",
   "metadata": {},
   "source": [
    "#### You can import a file using gpd.read_file()... \n",
    "\n",
    "    >>> gpd.read_file('Data/Boulder_Co.shp')"
   ]
  },
  {
   "cell_type": "code",
   "execution_count": 1,
   "metadata": {},
   "outputs": [
    {
     "ename": "NameError",
     "evalue": "name 'gpd' is not defined",
     "output_type": "error",
     "traceback": [
      "\u001b[0;31m---------------------------------------------------------------------------\u001b[0m",
      "\u001b[0;31mNameError\u001b[0m                                 Traceback (most recent call last)",
      "\u001b[0;32m<ipython-input-1-a905c43b2fa5>\u001b[0m in \u001b[0;36m<module>\u001b[0;34m\u001b[0m\n\u001b[0;32m----> 1\u001b[0;31m \u001b[0mgpd\u001b[0m\u001b[0;34m.\u001b[0m\u001b[0mread_file\u001b[0m\u001b[0;34m(\u001b[0m\u001b[0;34m'Data/Boulder_Co.shp'\u001b[0m\u001b[0;34m)\u001b[0m\u001b[0;34m\u001b[0m\u001b[0;34m\u001b[0m\u001b[0m\n\u001b[0m",
      "\u001b[0;31mNameError\u001b[0m: name 'gpd' is not defined"
     ]
    }
   ],
   "source": [
    "gpd.read_file('Data/Boulder_Co.shp')"
   ]
  },
  {
   "cell_type": "markdown",
   "metadata": {},
   "source": [
    "#### Create a variable out of the Boulder County shapefile:\n",
    "\n",
    "    >>> county = gpd.read_file('Data/Boulder_Co.shp')"
   ]
  },
  {
   "cell_type": "code",
   "execution_count": null,
   "metadata": {},
   "outputs": [],
   "source": []
  },
  {
   "cell_type": "markdown",
   "metadata": {},
   "source": [
    "#### Now, you can just call the variable and if you want to view it:\n",
    "\n",
    "    >>> county"
   ]
  },
  {
   "cell_type": "code",
   "execution_count": null,
   "metadata": {},
   "outputs": [],
   "source": []
  },
  {
   "cell_type": "markdown",
   "metadata": {},
   "source": [
    "#### Now, we'll use the MatPlotLib plot function to display the geometry of the shapefile:\n",
    "    >>> county.plot()"
   ]
  },
  {
   "cell_type": "code",
   "execution_count": null,
   "metadata": {},
   "outputs": [],
   "source": []
  },
  {
   "cell_type": "markdown",
   "metadata": {},
   "source": [
    "#### You can enter parameters between the parentheses. Let's change the color of Boulder County to green:\n",
    "    >>> county.plot(color='green')"
   ]
  },
  {
   "cell_type": "code",
   "execution_count": null,
   "metadata": {},
   "outputs": [],
   "source": []
  },
  {
   "cell_type": "markdown",
   "metadata": {},
   "source": [
    "#### You can change more than color... \n",
    "    >>> county.plot(color='green', edgecolor='black', alpha=0.5, figsize=(10,10))"
   ]
  },
  {
   "cell_type": "code",
   "execution_count": null,
   "metadata": {},
   "outputs": [],
   "source": []
  },
  {
   "cell_type": "markdown",
   "metadata": {},
   "source": [
    "#### Not bad!  \n",
    "\n",
    "#### What coordinate reference system is this data in? We can check it using the .crs:\n",
    "    >>> county.crs"
   ]
  },
  {
   "cell_type": "code",
   "execution_count": null,
   "metadata": {},
   "outputs": [],
   "source": []
  },
  {
   "cell_type": "markdown",
   "metadata": {},
   "source": [
    "##### Pro tip: go to https://spatialreference.org/ to check all the different epsg codes.  \n",
    "\n",
    "#### Now, let's read in another file, the Boulder City Limits shapefile: \n",
    "    >>> city = gpd.read_file('Data/City_Limites.shp')\n",
    "    >>> city\n"
   ]
  },
  {
   "cell_type": "code",
   "execution_count": null,
   "metadata": {},
   "outputs": [],
   "source": []
  },
  {
   "cell_type": "markdown",
   "metadata": {},
   "source": [
    "There are five polygons representing the city limits.  \n",
    "\n",
    "Use len to check how many rows there are in a Pandas/GeoPandas dataframe: \n",
    "\n",
    "    >>> len(city)"
   ]
  },
  {
   "cell_type": "code",
   "execution_count": null,
   "metadata": {},
   "outputs": [],
   "source": []
  },
  {
   "cell_type": "markdown",
   "metadata": {},
   "source": [
    "#### Plot it with the .plot() function:\n",
    "    >>> city.plot()"
   ]
  },
  {
   "cell_type": "code",
   "execution_count": null,
   "metadata": {},
   "outputs": [],
   "source": []
  },
  {
   "cell_type": "markdown",
   "metadata": {},
   "source": [
    "#### Let's take a minute to understand indexing in Python. Type in the following and view the different results.\n",
    "    >>> city[0:5]\n",
    "    >>> city[0:]\n",
    "    >>> city[1:3]\n",
    "    >>> city[:5]\n",
    "    >>> city[:-2]"
   ]
  },
  {
   "cell_type": "code",
   "execution_count": null,
   "metadata": {},
   "outputs": [],
   "source": []
  },
  {
   "cell_type": "markdown",
   "metadata": {},
   "source": [
    "#### You can use index for a lot of things, including plotting:\n",
    "    >>> city[1:3].plot()"
   ]
  },
  {
   "cell_type": "code",
   "execution_count": null,
   "metadata": {},
   "outputs": [],
   "source": []
  },
  {
   "cell_type": "markdown",
   "metadata": {},
   "source": [
    "#### Now let's plot both layers on top of one another.\n",
    "\n",
    "Start by making the county variable the plot \"axis\", then plot city using county as the axis...  \n",
    "\n",
    "    >>> ax = county.plot()\n",
    "    >>> city.plot(ax=ax)"
   ]
  },
  {
   "cell_type": "code",
   "execution_count": null,
   "metadata": {},
   "outputs": [],
   "source": []
  },
  {
   "cell_type": "markdown",
   "metadata": {},
   "source": [
    "### Hmm... what went wrong? \n",
    "\n",
    "start by checking city's crs...\n",
    "\n",
    "    >>> city.crs"
   ]
  },
  {
   "cell_type": "code",
   "execution_count": null,
   "metadata": {},
   "outputs": [],
   "source": []
  },
  {
   "cell_type": "markdown",
   "metadata": {},
   "source": [
    "#### Ah ha. Not in the same projection as the county layer. But we can easily reset it to the county variable's crs:\n",
    "\n",
    "    >>> city = city.to_crs(county.crs)\n",
    "    >>> city.crs"
   ]
  },
  {
   "cell_type": "code",
   "execution_count": null,
   "metadata": {},
   "outputs": [],
   "source": []
  },
  {
   "cell_type": "markdown",
   "metadata": {},
   "source": [
    "#### Okay! Now that both layers are in the same crs, we can try plotting again:\n",
    "\n",
    "    >>> ax = county.plot()\n",
    "    >>> city.plot(ax=ax)"
   ]
  },
  {
   "cell_type": "code",
   "execution_count": null,
   "metadata": {},
   "outputs": [],
   "source": []
  },
  {
   "cell_type": "markdown",
   "metadata": {},
   "source": [
    "#### It worked, but they're all the same color. So, let's work on changing the styling parameters:\n",
    "\n",
    "    >>> ax = county.plot(color='green', edgecolor='black', alpha=0.5, figsize=(10,10))\n",
    "    >>> city.plot(ax=ax, color='none', edgecolor='white')"
   ]
  },
  {
   "cell_type": "code",
   "execution_count": null,
   "metadata": {},
   "outputs": [],
   "source": []
  },
  {
   "cell_type": "markdown",
   "metadata": {},
   "source": [
    "#### Nice job!"
   ]
  }
 ],
 "metadata": {
  "kernelspec": {
   "display_name": "Python 3",
   "language": "python",
   "name": "python3"
  },
  "language_info": {
   "codemirror_mode": {
    "name": "ipython",
    "version": 3
   },
   "file_extension": ".py",
   "mimetype": "text/x-python",
   "name": "python",
   "nbconvert_exporter": "python",
   "pygments_lexer": "ipython3",
   "version": "3.6.8"
  }
 },
 "nbformat": 4,
 "nbformat_minor": 2
}
